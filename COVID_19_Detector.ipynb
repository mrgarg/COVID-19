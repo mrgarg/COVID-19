{
 "cells": [
  {
   "cell_type": "code",
   "execution_count": 0,
   "metadata": {
    "colab": {},
    "colab_type": "code",
    "id": "VeiTVuhU4fwa"
   },
   "outputs": [],
   "source": [
    "!wget http://cb.lk/covid_19"
   ]
  },
  {
   "cell_type": "code",
   "execution_count": 0,
   "metadata": {
    "colab": {},
    "colab_type": "code",
    "id": "NRByWFHb5f0y"
   },
   "outputs": [],
   "source": [
    "!unzip covid_19"
   ]
  },
  {
   "cell_type": "code",
   "execution_count": 0,
   "metadata": {
    "colab": {},
    "colab_type": "code",
    "id": "x1LxNCPb5nu4"
   },
   "outputs": [],
   "source": [
    "TRAIN_PATH = \"CovidDataset/Train\"\n",
    "VAL_PATH = \"CovidDataset/Val\""
   ]
  },
  {
   "cell_type": "code",
   "execution_count": 0,
   "metadata": {
    "colab": {},
    "colab_type": "code",
    "id": "glRm8ypy6x7q"
   },
   "outputs": [],
   "source": [
    "import numpy as np\n",
    "import pandas as pd\n",
    "import matplotlib.pyplot as plt\n",
    "import keras\n",
    "from keras.layers import *\n",
    "from keras.models import *\n",
    "from keras.preprocessing import image"
   ]
  },
  {
   "cell_type": "code",
   "execution_count": 0,
   "metadata": {
    "colab": {},
    "colab_type": "code",
    "id": "SkxBbV5f7UFN"
   },
   "outputs": [],
   "source": [
    "# CNN Based Model in Keras"
   ]
  },
  {
   "cell_type": "code",
   "execution_count": 0,
   "metadata": {
    "colab": {},
    "colab_type": "code",
    "id": "x3kWEAER7cNF"
   },
   "outputs": [],
   "source": [
    "model= Sequential()\n",
    "model.add(Conv2D(32,kernel_size=(3,3),activation='relu',input_shape=(224,224,3)))\n",
    "model.add(Conv2D(64,(3,3),activation='relu'))\n",
    "model.add(MaxPooling2D(pool_size=(2,2)))\n",
    "model.add(Dropout(0.25))\n",
    "\n",
    "model.add(Conv2D(64,(3,3),activation='relu'))\n",
    "model.add(MaxPooling2D(pool_size=(2,2)))\n",
    "model.add(Dropout(0.25))\n",
    "\n",
    "model.add(Conv2D(128,(3,3),activation='relu'))\n",
    "model.add(MaxPooling2D(pool_size=(2,2)))\n",
    "model.add(Dropout(0.25))\n",
    "\n",
    "model.add(Flatten())\n",
    "model.add(Dense(64,activation='relu'))\n",
    "model.add(Dropout(0.5))\n",
    "model.add(Dense(1,activation='sigmoid'))\n",
    "\n",
    "\n",
    "model.compile(loss=keras.losses.binary_crossentropy,optimizer='adam',metrics=['accuracy'])"
   ]
  },
  {
   "cell_type": "code",
   "execution_count": 56,
   "metadata": {
    "colab": {
     "base_uri": "https://localhost:8080/",
     "height": 622
    },
    "colab_type": "code",
    "id": "coiDKOzOBL_M",
    "outputId": "5c8a7c60-03dd-491d-c0da-ea3aa6dfc001"
   },
   "outputs": [
    {
     "name": "stdout",
     "output_type": "stream",
     "text": [
      "Model: \"sequential_3\"\n",
      "_________________________________________________________________\n",
      "Layer (type)                 Output Shape              Param #   \n",
      "=================================================================\n",
      "conv2d_9 (Conv2D)            (None, 222, 222, 32)      896       \n",
      "_________________________________________________________________\n",
      "conv2d_10 (Conv2D)           (None, 220, 220, 64)      18496     \n",
      "_________________________________________________________________\n",
      "max_pooling2d_7 (MaxPooling2 (None, 110, 110, 64)      0         \n",
      "_________________________________________________________________\n",
      "dropout_8 (Dropout)          (None, 110, 110, 64)      0         \n",
      "_________________________________________________________________\n",
      "conv2d_11 (Conv2D)           (None, 108, 108, 64)      36928     \n",
      "_________________________________________________________________\n",
      "max_pooling2d_8 (MaxPooling2 (None, 54, 54, 64)        0         \n",
      "_________________________________________________________________\n",
      "dropout_9 (Dropout)          (None, 54, 54, 64)        0         \n",
      "_________________________________________________________________\n",
      "conv2d_12 (Conv2D)           (None, 52, 52, 128)       73856     \n",
      "_________________________________________________________________\n",
      "max_pooling2d_9 (MaxPooling2 (None, 26, 26, 128)       0         \n",
      "_________________________________________________________________\n",
      "dropout_10 (Dropout)         (None, 26, 26, 128)       0         \n",
      "_________________________________________________________________\n",
      "flatten_3 (Flatten)          (None, 86528)             0         \n",
      "_________________________________________________________________\n",
      "dense_4 (Dense)              (None, 64)                5537856   \n",
      "_________________________________________________________________\n",
      "dropout_11 (Dropout)         (None, 64)                0         \n",
      "_________________________________________________________________\n",
      "dense_5 (Dense)              (None, 1)                 65        \n",
      "=================================================================\n",
      "Total params: 5,668,097\n",
      "Trainable params: 5,668,097\n",
      "Non-trainable params: 0\n",
      "_________________________________________________________________\n"
     ]
    }
   ],
   "source": [
    "model.summary()"
   ]
  },
  {
   "cell_type": "code",
   "execution_count": 0,
   "metadata": {
    "colab": {},
    "colab_type": "code",
    "id": "FtbyqLa1BWC4"
   },
   "outputs": [],
   "source": [
    "#Train from scratch\n",
    "\n",
    "\n",
    "train_datagen = image.ImageDataGenerator(\n",
    "    \n",
    "    rescale= 1./255,\n",
    "    shear_range=0.2,\n",
    "    zoom_range = 0.2,\n",
    "    horizontal_flip = True\n",
    ")\n"
   ]
  },
  {
   "cell_type": "code",
   "execution_count": 0,
   "metadata": {
    "colab": {},
    "colab_type": "code",
    "id": "34zh_nfXCVM4"
   },
   "outputs": [],
   "source": [
    "test_datagen = image.ImageDataGenerator(\n",
    "    \n",
    "    rescale =1./255\n",
    ")"
   ]
  },
  {
   "cell_type": "code",
   "execution_count": 59,
   "metadata": {
    "colab": {
     "base_uri": "https://localhost:8080/",
     "height": 34
    },
    "colab_type": "code",
    "id": "5kKlU0zXCebu",
    "outputId": "959c6f67-b818-44bd-c909-38d2958e921b"
   },
   "outputs": [
    {
     "name": "stdout",
     "output_type": "stream",
     "text": [
      "Found 224 images belonging to 2 classes.\n"
     ]
    }
   ],
   "source": [
    "train_generator = train_datagen.flow_from_directory(\n",
    "    'CovidDataset/Train',\n",
    "    target_size =(224,224),\n",
    "    batch_size=32,\n",
    "    class_mode ='binary'\n",
    ")"
   ]
  },
  {
   "cell_type": "code",
   "execution_count": 60,
   "metadata": {
    "colab": {
     "base_uri": "https://localhost:8080/",
     "height": 34
    },
    "colab_type": "code",
    "id": "7FL0QI5lDLDe",
    "outputId": "a2b7519c-34a0-490e-885f-9dda4d7e03f6"
   },
   "outputs": [
    {
     "data": {
      "text/plain": [
       "{'Covid': 0, 'Normal': 1}"
      ]
     },
     "execution_count": 60,
     "metadata": {
      "tags": []
     },
     "output_type": "execute_result"
    }
   ],
   "source": [
    "train_generator.class_indices"
   ]
  },
  {
   "cell_type": "code",
   "execution_count": 61,
   "metadata": {
    "colab": {
     "base_uri": "https://localhost:8080/",
     "height": 34
    },
    "colab_type": "code",
    "id": "OB3PktDqDT17",
    "outputId": "1599bf16-9856-4167-8552-08218e7f02b0"
   },
   "outputs": [
    {
     "name": "stdout",
     "output_type": "stream",
     "text": [
      "Found 60 images belonging to 2 classes.\n"
     ]
    }
   ],
   "source": [
    "validation_generator = test_datagen.flow_from_directory(\n",
    "    \n",
    "    'CovidDataset/Val',\n",
    "    target_size =(224,224),\n",
    "    batch_size=32,\n",
    "    class_mode ='binary'\n",
    "\n",
    ")"
   ]
  },
  {
   "cell_type": "code",
   "execution_count": 62,
   "metadata": {
    "colab": {
     "base_uri": "https://localhost:8080/",
     "height": 353
    },
    "colab_type": "code",
    "id": "aX_Xag0lD7MR",
    "outputId": "f36abcff-fb97-4475-f55b-10b265a682e8"
   },
   "outputs": [
    {
     "name": "stdout",
     "output_type": "stream",
     "text": [
      "Epoch 1/10\n",
      "8/8 [==============================] - 9s 1s/step - loss: 0.7983 - accuracy: 0.5586 - val_loss: 0.6919 - val_accuracy: 0.6167\n",
      "Epoch 2/10\n",
      "8/8 [==============================] - 9s 1s/step - loss: 0.6626 - accuracy: 0.6289 - val_loss: 0.6356 - val_accuracy: 0.8667\n",
      "Epoch 3/10\n",
      "8/8 [==============================] - 9s 1s/step - loss: 0.5579 - accuracy: 0.6836 - val_loss: 0.4418 - val_accuracy: 0.9500\n",
      "Epoch 4/10\n",
      "8/8 [==============================] - 8s 1s/step - loss: 0.3055 - accuracy: 0.8633 - val_loss: 0.1961 - val_accuracy: 0.9333\n",
      "Epoch 5/10\n",
      "8/8 [==============================] - 9s 1s/step - loss: 0.2423 - accuracy: 0.9141 - val_loss: 0.1239 - val_accuracy: 0.9667\n",
      "Epoch 6/10\n",
      "8/8 [==============================] - 9s 1s/step - loss: 0.1708 - accuracy: 0.9180 - val_loss: 0.0226 - val_accuracy: 0.9667\n",
      "Epoch 7/10\n",
      "8/8 [==============================] - 9s 1s/step - loss: 0.2275 - accuracy: 0.9180 - val_loss: 0.0619 - val_accuracy: 0.9833\n",
      "Epoch 8/10\n",
      "8/8 [==============================] - 9s 1s/step - loss: 0.1740 - accuracy: 0.9258 - val_loss: 0.0681 - val_accuracy: 0.9667\n",
      "Epoch 9/10\n",
      "8/8 [==============================] - 9s 1s/step - loss: 0.1252 - accuracy: 0.9609 - val_loss: 0.0316 - val_accuracy: 0.9667\n",
      "Epoch 10/10\n",
      "8/8 [==============================] - 9s 1s/step - loss: 0.1589 - accuracy: 0.9766 - val_loss: 0.1430 - val_accuracy: 0.9667\n"
     ]
    }
   ],
   "source": [
    "hist = model.fit_generator(\n",
    "    train_generator,\n",
    "    steps_per_epoch = 8,\n",
    "    epochs =10,\n",
    "    validation_data = validation_generator,\n",
    "    validation_steps=2\n",
    ")"
   ]
  },
  {
   "cell_type": "code",
   "execution_count": 0,
   "metadata": {
    "colab": {},
    "colab_type": "code",
    "id": "JcJjB4rJElJY"
   },
   "outputs": [],
   "source": [
    "# class activation map\n",
    "# Grad-CAM"
   ]
  },
  {
   "cell_type": "code",
   "execution_count": 0,
   "metadata": {
    "colab": {},
    "colab_type": "code",
    "id": "hyHADIrBF3dk"
   },
   "outputs": [],
   "source": [
    "model.save(\"model_adv.h5\")"
   ]
  },
  {
   "cell_type": "markdown",
   "metadata": {
    "colab_type": "text",
    "id": "Utv0eqmiGS-5"
   },
   "source": [
    "# LOSS is very less"
   ]
  },
  {
   "cell_type": "code",
   "execution_count": 65,
   "metadata": {
    "colab": {
     "base_uri": "https://localhost:8080/",
     "height": 34
    },
    "colab_type": "code",
    "id": "hk0AnlmXF9ez",
    "outputId": "f217903b-464a-4327-8f3f-f459519de9d3"
   },
   "outputs": [
    {
     "data": {
      "text/plain": [
       "[0.12216537445783615, 0.96875]"
      ]
     },
     "execution_count": 65,
     "metadata": {
      "tags": []
     },
     "output_type": "execute_result"
    }
   ],
   "source": [
    "model.evaluate_generator(train_generator)"
   ]
  },
  {
   "cell_type": "code",
   "execution_count": 66,
   "metadata": {
    "colab": {
     "base_uri": "https://localhost:8080/",
     "height": 34
    },
    "colab_type": "code",
    "id": "DsOXXsIgGDyE",
    "outputId": "1a183f58-772a-4101-81e2-9eb8343a9bb5"
   },
   "outputs": [
    {
     "data": {
      "text/plain": [
       "[0.1075497642159462, 0.9666666388511658]"
      ]
     },
     "execution_count": 66,
     "metadata": {
      "tags": []
     },
     "output_type": "execute_result"
    }
   ],
   "source": [
    "model.evaluate_generator(validation_generator)"
   ]
  },
  {
   "cell_type": "markdown",
   "metadata": {
    "colab_type": "text",
    "id": "Yhenwfc3GaYi"
   },
   "source": [
    "# Test images"
   ]
  },
  {
   "cell_type": "code",
   "execution_count": 0,
   "metadata": {
    "colab": {},
    "colab_type": "code",
    "id": "s3cRU3vgGKGP"
   },
   "outputs": [],
   "source": [
    "model =load_model('model_adv.h5')"
   ]
  },
  {
   "cell_type": "code",
   "execution_count": 0,
   "metadata": {
    "colab": {},
    "colab_type": "code",
    "id": "mRQ-2wjnGkQ_"
   },
   "outputs": [],
   "source": [
    "import os"
   ]
  },
  {
   "cell_type": "code",
   "execution_count": 69,
   "metadata": {
    "colab": {
     "base_uri": "https://localhost:8080/",
     "height": 34
    },
    "colab_type": "code",
    "id": "X5Hkp2cLIAdX",
    "outputId": "2c362090-6ea3-433b-cab6-7a50021f5f67"
   },
   "outputs": [
    {
     "data": {
      "text/plain": [
       "{'Covid': 0, 'Normal': 1}"
      ]
     },
     "execution_count": 69,
     "metadata": {
      "tags": []
     },
     "output_type": "execute_result"
    }
   ],
   "source": [
    "train_generator.class_indices"
   ]
  },
  {
   "cell_type": "code",
   "execution_count": 0,
   "metadata": {
    "colab": {},
    "colab_type": "code",
    "id": "pnoiaxRJIDCV"
   },
   "outputs": [],
   "source": [
    "y_actual = []\n",
    "y_test = []"
   ]
  },
  {
   "cell_type": "code",
   "execution_count": 0,
   "metadata": {
    "colab": {},
    "colab_type": "code",
    "id": "zjZtoRxpIHMx"
   },
   "outputs": [],
   "source": [
    "for i in os.listdir(\"./CovidDataset/Val/Normal/\"):\n",
    "  img =image.load_img(\"./CovidDataset/Val/Normal/\"+i,target_size=(224,224))\n",
    "  img= image.img_to_array(img)\n",
    "  img = np.expand_dims(img,axis=0)\n",
    "  p = model.predict_classes(img)\n",
    "  y_test.append(p[0,0])\n",
    "  y_actual.append(1)"
   ]
  },
  {
   "cell_type": "code",
   "execution_count": 0,
   "metadata": {
    "colab": {},
    "colab_type": "code",
    "id": "tOQAT4ZAJDTa"
   },
   "outputs": [],
   "source": [
    "for i in os.listdir(\"./CovidDataset/Val/Covid/\"):\n",
    "  img =image.load_img(\"./CovidDataset/Val/Covid/\"+i,target_size=(224,224))\n",
    "  img= image.img_to_array(img)\n",
    "  img = np.expand_dims(img,axis=0)\n",
    "  p = model.predict_classes(img)\n",
    "  y_test.append(p[0,0])\n",
    "  y_actual.append(0)"
   ]
  },
  {
   "cell_type": "code",
   "execution_count": 0,
   "metadata": {
    "colab": {},
    "colab_type": "code",
    "id": "bs-ZzpmkJVRG"
   },
   "outputs": [],
   "source": [
    "y_actual = np.array(y_actual)\n",
    "y_test = np.array(y_test)"
   ]
  },
  {
   "cell_type": "code",
   "execution_count": 0,
   "metadata": {
    "colab": {},
    "colab_type": "code",
    "id": "B1WmgNd_Jgu8"
   },
   "outputs": [],
   "source": [
    "from sklearn.metrics import confusion_matrix"
   ]
  },
  {
   "cell_type": "code",
   "execution_count": 0,
   "metadata": {
    "colab": {},
    "colab_type": "code",
    "id": "ZWF9OtJMJm-1"
   },
   "outputs": [],
   "source": [
    "cm = confusion_matrix(y_actual,y_test)\n"
   ]
  },
  {
   "cell_type": "code",
   "execution_count": 0,
   "metadata": {
    "colab": {},
    "colab_type": "code",
    "id": "KKUrOqwcJsx9"
   },
   "outputs": [],
   "source": [
    "import seaborn as sns"
   ]
  },
  {
   "cell_type": "code",
   "execution_count": 77,
   "metadata": {
    "colab": {
     "base_uri": "https://localhost:8080/",
     "height": 286
    },
    "colab_type": "code",
    "id": "z3jZl9tgJuqC",
    "outputId": "4fb81397-e075-4018-cf88-a0907dbca4f5"
   },
   "outputs": [
    {
     "data": {
      "text/plain": [
       "<matplotlib.axes._subplots.AxesSubplot at 0x7fd2cf48b860>"
      ]
     },
     "execution_count": 77,
     "metadata": {
      "tags": []
     },
     "output_type": "execute_result"
    },
    {
     "data": {
      "image/png": "[encoded data removed]",
      "text/plain": [
       "<Figure size 432x288 with 2 Axes>"
      ]
     },
     "metadata": {
      "needs_background": "light",
      "tags": []
     },
     "output_type": "display_data"
    }
   ],
   "source": [
    "sns.heatmap(cm,cmap=\"plasma\",annot = True)"
   ]
  },
  {
   "cell_type": "code",
   "execution_count": 0,
   "metadata": {
    "colab": {},
    "colab_type": "code",
    "id": "wDqCswFCJ3kv"
   },
   "outputs": [],
   "source": []
  }
 ],
 "metadata": {
  "accelerator": "GPU",
  "colab": {
   "collapsed_sections": [],
   "name": "COVID-19 Detector",
   "provenance": []
  },
  "kernelspec": {
   "display_name": "Python 3",
   "language": "python",
   "name": "python3"
  },
  "language_info": {
   "codemirror_mode": {
    "name": "ipython",
    "version": 3
   },
   "file_extension": ".py",
   "mimetype": "text/x-python",
   "name": "python",
   "nbconvert_exporter": "python",
   "pygments_lexer": "ipython3",
   "version": "3.6.8"
  }
 },
 "nbformat": 4,
 "nbformat_minor": 1
}
